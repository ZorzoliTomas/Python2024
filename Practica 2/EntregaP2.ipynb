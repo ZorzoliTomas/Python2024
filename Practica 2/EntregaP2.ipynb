{
 "cells": [
  {
   "cell_type": "markdown",
   "metadata": {},
   "source": [
    "# Alumno: Zorzoli Tomas\n",
    "\n",
    "Resolucion ejercicio 10 practica 2:"
   ]
  },
  {
   "cell_type": "markdown",
   "metadata": {},
   "source": [
    "Variables del enunciado:"
   ]
  },
  {
   "cell_type": "code",
   "execution_count": 3,
   "metadata": {},
   "outputs": [],
   "source": [
    "names = \"\"\" Agustin, Yanina, Andrés, Ariadna, Bautista, CAROLINA, \n",
    "CESAR, David, Diego, Dolores, DYLAN, ELIANA, Emanuel, Fabián, Noelia, \n",
    "Francsica', FEDERICO, Fernanda, GONZALO, Nancy \"\"\"\n",
    "goals = [0, 10, 4, 0, 5, 14, 0, 0, 7, 2, 1, 1, 1, 5, 6, 1, 1, 2, 0, 11]\n",
    "goals_avoided = [0, 2, 0, 0, 5, 2, 0, 0, 1, 2, 0, 5, 5, 0, 1, 0, 2, 3, 0, 0]\n",
    "assists = [0, 5, 1, 0, 5, 2, 0, 0, 1, 2, 1, 5, 5, 0, 1, 0, 2, 3, 1, 0]"
   ]
  },
  {
   "cell_type": "markdown",
   "metadata": {},
   "source": [
    "Import funciones:"
   ]
  },
  {
   "cell_type": "code",
   "execution_count": 4,
   "metadata": {},
   "outputs": [],
   "source": [
    "import Funciones"
   ]
  },
  {
   "cell_type": "markdown",
   "metadata": {},
   "source": [
    "Funcion Inciso A:  Generar una estructura todas las estadísticas asociadas a cada jugador o jugadora"
   ]
  },
  {
   "cell_type": "code",
   "execution_count": 5,
   "metadata": {},
   "outputs": [
    {
     "name": "stdout",
     "output_type": "stream",
     "text": [
      "{'Agustin': (0, 0, 0), 'Yanina': (10, 2, 5), 'Andrés': (4, 0, 1), 'Ariadna': (0, 0, 0), 'Bautista': (5, 5, 5), 'CAROLINA': (14, 2, 2), 'CESAR': (0, 0, 0), 'David': (0, 0, 0), 'Diego': (7, 1, 1), 'Dolores': (2, 2, 2), 'DYLAN': (1, 0, 1), 'ELIANA': (1, 5, 5), 'Emanuel': (1, 5, 5), 'Fabián': (5, 0, 0), 'Noelia': (6, 1, 1), \"Francsica'\": (1, 0, 0), 'FEDERICO': (1, 2, 2), 'Fernanda': (2, 3, 3), 'GONZALO': (0, 0, 1), 'Nancy': (11, 0, 0)}\n"
     ]
    }
   ],
   "source": [
    "stats = Funciones.createStats(names, goals, goals_avoided, assists)\n",
    "print(stats)"
   ]
  },
  {
   "cell_type": "markdown",
   "metadata": {},
   "source": [
    "Funcion Inciso B: Conocer el nombre y la cantidad de goles del goleador o goleadora."
   ]
  },
  {
   "cell_type": "code",
   "execution_count": 6,
   "metadata": {},
   "outputs": [
    {
     "name": "stdout",
     "output_type": "stream",
     "text": [
      "El goleador/a fue CAROLINA con 14 goles\n"
     ]
    }
   ],
   "source": [
    "infogoleador = Funciones.getGoleador(stats)\n",
    "print(\"El goleador/a fue\",infogoleador[0],\"con\",infogoleador[1],\"goles\")"
   ]
  },
  {
   "cell_type": "markdown",
   "metadata": {},
   "source": [
    "Funcion Inciso C: Conocer el nombre del jugador o jugadora más influyente."
   ]
  },
  {
   "cell_type": "code",
   "execution_count": 7,
   "metadata": {},
   "outputs": [
    {
     "name": "stdout",
     "output_type": "stream",
     "text": [
      "El jugador/a mas influyente fue CAROLINA\n"
     ]
    }
   ],
   "source": [
    "print(\"El jugador/a mas influyente fue\",Funciones.getInfluyente(stats))"
   ]
  },
  {
   "cell_type": "markdown",
   "metadata": {},
   "source": [
    "Funcion Inciso D:  Conocer el promedio de goles por partido del equipo en general."
   ]
  },
  {
   "cell_type": "code",
   "execution_count": 8,
   "metadata": {},
   "outputs": [
    {
     "name": "stdout",
     "output_type": "stream",
     "text": [
      "El promedio de goles del partido fue de 2.84\n"
     ]
    }
   ],
   "source": [
    "print(\"El promedio de goles del partido fue de\",Funciones.getMatchProm(goals))"
   ]
  },
  {
   "cell_type": "markdown",
   "metadata": {},
   "source": [
    "Funcion Inciso E: Conocer el promedio de goles por partido del goleador o goleadora."
   ]
  },
  {
   "cell_type": "code",
   "execution_count": 9,
   "metadata": {},
   "outputs": [
    {
     "name": "stdout",
     "output_type": "stream",
     "text": [
      "El promedio de goles del goleador fue de 0.56\n"
     ]
    }
   ],
   "source": [
    "print(\"El promedio de goles del goleador fue de\",Funciones.getGoleadorProm(stats))"
   ]
  }
 ],
 "metadata": {
  "kernelspec": {
   "display_name": "Python 3",
   "language": "python",
   "name": "python3"
  },
  "language_info": {
   "codemirror_mode": {
    "name": "ipython",
    "version": 3
   },
   "file_extension": ".py",
   "mimetype": "text/x-python",
   "name": "python",
   "nbconvert_exporter": "python",
   "pygments_lexer": "ipython3",
   "version": "3.11.2"
  }
 },
 "nbformat": 4,
 "nbformat_minor": 2
}
